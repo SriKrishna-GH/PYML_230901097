{
  "nbformat": 4,
  "nbformat_minor": 0,
  "metadata": {
    "colab": {
      "provenance": []
    },
    "kernelspec": {
      "name": "python3",
      "display_name": "Python 3"
    },
    "language_info": {
      "name": "python"
    }
  },
  "cells": [
    {
      "cell_type": "code",
      "execution_count": 1,
      "metadata": {
        "colab": {
          "base_uri": "https://localhost:8080/"
        },
        "id": "0fIDdGaYbyMz",
        "outputId": "03f1745a-0450-48fb-e8e2-bf726b5b725f"
      },
      "outputs": [
        {
          "output_type": "stream",
          "name": "stdout",
          "text": [
            "0    s\n",
            "1    a\n",
            "2    i\n",
            "3    s\n",
            "4    r\n",
            "5    i\n",
            "dtype: object\n"
          ]
        }
      ],
      "source": [
        "import pandas as pd\n",
        "import numpy as np\n",
        "a=np.array(['s','a','i','s','r','i'])\n",
        "b=pd.Series(a)\n",
        "print(b)"
      ]
    },
    {
      "cell_type": "code",
      "source": [
        "c={'a':0,'b':1,'c':2}\n",
        "e=pd.Series(c)\n",
        "print(e)"
      ],
      "metadata": {
        "colab": {
          "base_uri": "https://localhost:8080/"
        },
        "id": "SdHNJdLfcLqu",
        "outputId": "e003be63-072c-4d02-a787-b90299469ca6"
      },
      "execution_count": 2,
      "outputs": [
        {
          "output_type": "stream",
          "name": "stdout",
          "text": [
            "a    0\n",
            "b    1\n",
            "c    2\n",
            "dtype: int64\n"
          ]
        }
      ]
    },
    {
      "cell_type": "code",
      "source": [
        "x=pd.Series(4,index=[0,1,2,3])\n",
        "print(x)"
      ],
      "metadata": {
        "colab": {
          "base_uri": "https://localhost:8080/"
        },
        "id": "kFNXZVyPcXAh",
        "outputId": "458da244-aa0b-4ea3-9854-bafb6394a276"
      },
      "execution_count": 3,
      "outputs": [
        {
          "output_type": "stream",
          "name": "stdout",
          "text": [
            "0    4\n",
            "1    4\n",
            "2    4\n",
            "3    4\n",
            "dtype: int64\n"
          ]
        }
      ]
    },
    {
      "cell_type": "code",
      "source": [
        "a=pd.Series(['s','a','i','s','r','i'])\n",
        "print(a.values)\n",
        "print(a.ndim)\n",
        "print(a.size)\n",
        "print(a.shape)\n",
        "print(a.index)"
      ],
      "metadata": {
        "colab": {
          "base_uri": "https://localhost:8080/"
        },
        "id": "5h4bz2Cfccdl",
        "outputId": "b64c7d4a-05be-4632-d9ad-a99642b2cca3"
      },
      "execution_count": 4,
      "outputs": [
        {
          "output_type": "stream",
          "name": "stdout",
          "text": [
            "['s' 'a' 'i' 's' 'r' 'i']\n",
            "1\n",
            "6\n",
            "(6,)\n",
            "RangeIndex(start=0, stop=6, step=1)\n"
          ]
        }
      ]
    }
  ]
}
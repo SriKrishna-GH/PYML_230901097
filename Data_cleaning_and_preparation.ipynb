{
  "nbformat": 4,
  "nbformat_minor": 0,
  "metadata": {
    "colab": {
      "provenance": []
    },
    "kernelspec": {
      "name": "python3",
      "display_name": "Python 3"
    },
    "language_info": {
      "name": "python"
    }
  },
  "cells": [
    {
      "cell_type": "code",
      "execution_count": 1,
      "metadata": {
        "colab": {
          "base_uri": "https://localhost:8080/"
        },
        "id": "uIBxixv-jMGU",
        "outputId": "56edba08-dca3-4189-fcbe-724690a261ef"
      },
      "outputs": [
        {
          "output_type": "stream",
          "name": "stdout",
          "text": [
            "Original DataFrame with Nan\n",
            "         one       two     three\n",
            "a  0.127311 -0.613590  0.448786\n",
            "b       NaN       NaN       NaN\n",
            "c  0.436648 -0.701026 -0.905926\n",
            "d -0.811234  0.417327  0.130138\n",
            "e       NaN       NaN       NaN\n",
            "f  0.291548 -0.296653 -0.550374\n",
            "Dropped DataFrame\n",
            "         one       two     three\n",
            "a  0.127311 -0.613590  0.448786\n",
            "c  0.436648 -0.701026 -0.905926\n",
            "d -0.811234  0.417327  0.130138\n",
            "f  0.291548 -0.296653 -0.550374\n",
            "\n",
            "\n"
          ]
        }
      ],
      "source": [
        "import pandas as pd\n",
        "import numpy as np\n",
        "df=pd.DataFrame(np.random.randn(4,3),index=['a','c','d','f'],columns=['one','two','three'])\n",
        "df=df.reindex(['a','b','c','d','e','f'])\n",
        "print(\"Original DataFrame with Nan\\n\",df)\n",
        "print(\"Dropped DataFrame\\n\",df.dropna())\n",
        "print(\"\\n\")"
      ]
    },
    {
      "cell_type": "code",
      "source": [
        "print(\"NaN replaced with 0:\\n\",df.fillna(0))\n",
        "print(\"\\n\")"
      ],
      "metadata": {
        "colab": {
          "base_uri": "https://localhost:8080/"
        },
        "id": "WC04tS8djVt_",
        "outputId": "141f42c2-c1c4-4359-f174-444bc6d8ca23"
      },
      "execution_count": 2,
      "outputs": [
        {
          "output_type": "stream",
          "name": "stdout",
          "text": [
            "NaN replaced with 0:\n",
            "         one       two     three\n",
            "a  0.127311 -0.613590  0.448786\n",
            "b  0.000000  0.000000  0.000000\n",
            "c  0.436648 -0.701026 -0.905926\n",
            "d -0.811234  0.417327  0.130138\n",
            "e  0.000000  0.000000  0.000000\n",
            "f  0.291548 -0.296653 -0.550374\n",
            "\n",
            "\n"
          ]
        }
      ]
    },
    {
      "cell_type": "code",
      "source": [
        "df=pd.DataFrame({'one':[10,20,30,40,50],'two':[60,70,80,90,100]})\n",
        "print(\"Original DataFrame:\\n\",df)\n",
        "print(\"\\n DataFrame with replaced values: \\n\")\n",
        "print(df.replace({10:5,80:3}))"
      ],
      "metadata": {
        "colab": {
          "base_uri": "https://localhost:8080/"
        },
        "id": "aK8QtLjjjrzS",
        "outputId": "502c9301-bb09-4b1e-cfa4-aa4cdfa15756"
      },
      "execution_count": 6,
      "outputs": [
        {
          "output_type": "stream",
          "name": "stdout",
          "text": [
            "Original DataFrame:\n",
            "    one  two\n",
            "0   10   60\n",
            "1   20   70\n",
            "2   30   80\n",
            "3   40   90\n",
            "4   50  100\n",
            "\n",
            " DataFrame with replaced values: \n",
            "\n",
            "   one  two\n",
            "0    5   60\n",
            "1   20   70\n",
            "2   30    3\n",
            "3   40   90\n",
            "4   50  100\n"
          ]
        }
      ]
    },
    {
      "cell_type": "code",
      "source": [
        "df=pd.DataFrame(np.random.randn(4,3),index=['a','c','d','f'],columns=['one','two','three'])\n",
        "df=df.reindex(['a','b','c','d','e','f'])\n",
        "print(\"Original DataFrame with Nan\\n\",df)\n",
        "print(\"\\n NaN with true fill:\\n\")\n",
        "print(df['one'].isnull())"
      ],
      "metadata": {
        "colab": {
          "base_uri": "https://localhost:8080/"
        },
        "id": "yqt73Pbrkaoh",
        "outputId": "af3c3d41-3d5e-4f7e-febc-99603cc161dd"
      },
      "execution_count": 8,
      "outputs": [
        {
          "output_type": "stream",
          "name": "stdout",
          "text": [
            "Original DataFrame with Nan\n",
            "         one       two     three\n",
            "a -1.330454  0.303751  0.539430\n",
            "b       NaN       NaN       NaN\n",
            "c  1.063962  0.987635  2.092964\n",
            "d  1.113452  1.990901  0.152980\n",
            "e       NaN       NaN       NaN\n",
            "f  1.898381 -0.545069 -0.006703\n",
            "\n",
            " NaN with true fill:\n",
            "\n",
            "a    False\n",
            "b     True\n",
            "c    False\n",
            "d    False\n",
            "e     True\n",
            "f    False\n",
            "Name: one, dtype: bool\n"
          ]
        }
      ]
    },
    {
      "cell_type": "code",
      "source": [
        "df=pd.DataFrame(np.random.randn(4,3),index=['a','c','d','f'],columns=['one','two','three'])\n",
        "df=df.reindex(['a','b','c','d','e','f'])\n",
        "print(\"Original DataFrame with Nan\\n\",df)\n",
        "print(\"NaN filled with Background values:\\n\")\n",
        "print(df.bfill())"
      ],
      "metadata": {
        "colab": {
          "base_uri": "https://localhost:8080/"
        },
        "id": "ayx3F2CElAhS",
        "outputId": "c86750c2-3c13-4323-eec9-a0b02657bc5c"
      },
      "execution_count": 9,
      "outputs": [
        {
          "output_type": "stream",
          "name": "stdout",
          "text": [
            "Original DataFrame with Nan\n",
            "         one       two     three\n",
            "a -0.131132 -0.951823  0.693019\n",
            "b       NaN       NaN       NaN\n",
            "c -1.698038 -0.311287  1.468003\n",
            "d  0.170491 -0.867951  0.585571\n",
            "e       NaN       NaN       NaN\n",
            "f  3.429957  0.386341 -0.900398\n",
            "NaN filled with Background values:\n",
            "\n",
            "        one       two     three\n",
            "a -0.131132 -0.951823  0.693019\n",
            "b -1.698038 -0.311287  1.468003\n",
            "c -1.698038 -0.311287  1.468003\n",
            "d  0.170491 -0.867951  0.585571\n",
            "e  3.429957  0.386341 -0.900398\n",
            "f  3.429957  0.386341 -0.900398\n"
          ]
        }
      ]
    }
  ]
}
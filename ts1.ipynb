{
  "nbformat": 4,
  "nbformat_minor": 0,
  "metadata": {
    "colab": {
      "provenance": [],
      "authorship_tag": "ABX9TyOiRugno0IbQjViVXWaOZLj",
      "include_colab_link": true
    },
    "kernelspec": {
      "name": "python3",
      "display_name": "Python 3"
    },
    "language_info": {
      "name": "python"
    }
  },
  "cells": [
    {
      "cell_type": "markdown",
      "metadata": {
        "id": "view-in-github",
        "colab_type": "text"
      },
      "source": [
        "<a href=\"https://colab.research.google.com/github/SriKrishna-GH/PYML_230901097/blob/main/ts1.ipynb\" target=\"_parent\"><img src=\"https://colab.research.google.com/assets/colab-badge.svg\" alt=\"Open In Colab\"/></a>"
      ]
    },
    {
      "cell_type": "code",
      "execution_count": null,
      "metadata": {
        "colab": {
          "base_uri": "https://localhost:8080/"
        },
        "id": "YSavD-mk6tgk",
        "outputId": "62cacd65-cc35-4405-924b-8e624dd008ea"
      },
      "outputs": [
        {
          "output_type": "stream",
          "name": "stdout",
          "text": [
            "today-now function:  2025-04-09 14:22:53.140070\n"
          ]
        }
      ],
      "source": [
        "import datetime\n",
        "a=datetime.datetime.now()\n",
        "print(\"today-now function: \",a)"
      ]
    },
    {
      "cell_type": "code",
      "source": [
        "today=datetime.datetime.today()\n",
        "print(\"\\ntoday: \",today)"
      ],
      "metadata": {
        "colab": {
          "base_uri": "https://localhost:8080/"
        },
        "id": "Knb_h03262tZ",
        "outputId": "a571ffd2-9f01-48fb-bd43-6b898217ce19"
      },
      "execution_count": null,
      "outputs": [
        {
          "output_type": "stream",
          "name": "stdout",
          "text": [
            "\n",
            "today:  2025-04-09 14:22:53.149209\n"
          ]
        }
      ]
    },
    {
      "cell_type": "code",
      "source": [
        "tomorrow=today+datetime.timedelta(days=3)\n",
        "print(\"\\ntomorrow:\",tomorrow)"
      ],
      "metadata": {
        "colab": {
          "base_uri": "https://localhost:8080/"
        },
        "id": "oq8MExAk7NJj",
        "outputId": "c709fb3b-03f9-4438-8a49-3012c032c484"
      },
      "execution_count": null,
      "outputs": [
        {
          "output_type": "stream",
          "name": "stdout",
          "text": [
            "\n",
            "tomorrow: 2025-04-12 14:22:53.149209\n"
          ]
        }
      ]
    },
    {
      "cell_type": "code",
      "source": [
        "yesterday=today-datetime.timedelta(days=2)\n",
        "print(\"\\nyesterday: \",yesterday)"
      ],
      "metadata": {
        "colab": {
          "base_uri": "https://localhost:8080/"
        },
        "id": "UMdWdYHY7T0L",
        "outputId": "656644d0-9396-40e1-eed5-b181e762dd6f"
      },
      "execution_count": null,
      "outputs": [
        {
          "output_type": "stream",
          "name": "stdout",
          "text": [
            "\n",
            "yesterday:  2025-04-07 14:22:53.149209\n"
          ]
        }
      ]
    },
    {
      "cell_type": "code",
      "source": [
        "a=datetime.datetime.now()\n",
        "b=datetime.datetime(2020,6,8,23,10,25,404040)\n",
        "print(\"\\ndate format [2020,6,8,23,10,25,404040): \",b)\n"
      ],
      "metadata": {
        "colab": {
          "base_uri": "https://localhost:8080/"
        },
        "id": "PNHuzIGO7iYy",
        "outputId": "496d54d1-122d-4e5f-aba5-175d2949d469"
      },
      "execution_count": null,
      "outputs": [
        {
          "output_type": "stream",
          "name": "stdout",
          "text": [
            "\n",
            "date format [2020,6,8,23,10,25,404040):  2020-06-08 23:10:25.404040\n"
          ]
        }
      ]
    },
    {
      "cell_type": "code",
      "source": [
        "from datetime import date\n",
        "d=date(2024, 12, 31)\n",
        "print(\"\\nReplacing date\",d,d.replace(day=15))\n"
      ],
      "metadata": {
        "colab": {
          "base_uri": "https://localhost:8080/"
        },
        "id": "3nNVcXKU7lBF",
        "outputId": "25fb3b54-7b9b-4acf-aaed-74592128226d"
      },
      "execution_count": null,
      "outputs": [
        {
          "output_type": "stream",
          "name": "stdout",
          "text": [
            "\n",
            "Replacing date 2024-12-31 2024-12-15\n"
          ]
        }
      ]
    },
    {
      "cell_type": "code",
      "source": [
        "t=date(2004,4,17)\n",
        "d=date(2004,4,17).ctime()\n",
        "print(\"\\nDay and Month:\",t,d)\n"
      ],
      "metadata": {
        "colab": {
          "base_uri": "https://localhost:8080/"
        },
        "id": "_ISRgIar7n3j",
        "outputId": "d60b359a-cdb3-40eb-fb6d-54c3955db0b3"
      },
      "execution_count": null,
      "outputs": [
        {
          "output_type": "stream",
          "name": "stdout",
          "text": [
            "\n",
            "Day and Month: 2004-04-17 Sat Apr 17 00:00:00 2004\n"
          ]
        }
      ]
    },
    {
      "cell_type": "code",
      "source": [
        "today=date.today()\n",
        "print(\"\\nToday:\",today)\n",
        "print(\"Current year:\", today.year)\n",
        "print(\"Current month:\", today.month)\n",
        "print(\"Current day:\",today.day)\n"
      ],
      "metadata": {
        "colab": {
          "base_uri": "https://localhost:8080/"
        },
        "id": "KCJlQjYy7rY9",
        "outputId": "19b9efdc-433f-454e-a5cc-daf3d848214e"
      },
      "execution_count": null,
      "outputs": [
        {
          "output_type": "stream",
          "name": "stdout",
          "text": [
            "\n",
            "Today: 2025-04-09\n",
            "Current year: 2025\n",
            "Current month: 4\n",
            "Current day: 9\n"
          ]
        }
      ]
    }
  ]
}
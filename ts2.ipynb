{
  "nbformat": 4,
  "nbformat_minor": 0,
  "metadata": {
    "colab": {
      "provenance": [],
      "authorship_tag": "ABX9TyO8hEVhFbfssXlvoZnqs3NN",
      "include_colab_link": true
    },
    "kernelspec": {
      "name": "python3",
      "display_name": "Python 3"
    },
    "language_info": {
      "name": "python"
    }
  },
  "cells": [
    {
      "cell_type": "markdown",
      "metadata": {
        "id": "view-in-github",
        "colab_type": "text"
      },
      "source": [
        "<a href=\"https://colab.research.google.com/github/SriKrishna-GH/PYML_230901097/blob/main/ts2.ipynb\" target=\"_parent\"><img src=\"https://colab.research.google.com/assets/colab-badge.svg\" alt=\"Open In Colab\"/></a>"
      ]
    },
    {
      "cell_type": "code",
      "execution_count": null,
      "metadata": {
        "colab": {
          "base_uri": "https://localhost:8080/"
        },
        "id": "myAI8LNv78ne",
        "outputId": "0b4bd7a7-ba7e-4716-a60b-0eb7e3853756"
      },
      "outputs": [
        {
          "output_type": "stream",
          "name": "stdout",
          "text": [
            "2025-04-09 14:28:23.495458\n"
          ]
        }
      ],
      "source": [
        "import datetime\n",
        "cd=datetime.datetime.now()\n",
        "print(cd)\n"
      ]
    },
    {
      "cell_type": "code",
      "source": [
        "res=cd.strftime(\"%y\")\n",
        "print(\"\\nTwo-digit year:\", res)\n"
      ],
      "metadata": {
        "colab": {
          "base_uri": "https://localhost:8080/"
        },
        "id": "6Z96S4fI8IOm",
        "outputId": "b97eba30-cc58-43f7-d172-2d6f8fb7d843"
      },
      "execution_count": null,
      "outputs": [
        {
          "output_type": "stream",
          "name": "stdout",
          "text": [
            "\n",
            "Two-digit year: 25\n"
          ]
        }
      ]
    },
    {
      "cell_type": "code",
      "source": [
        "res1=cd.strftime(\"%Y\")\n",
        "print(\"\\nFour-digit year:\", res1)\n"
      ],
      "metadata": {
        "colab": {
          "base_uri": "https://localhost:8080/"
        },
        "id": "6tI0M9Id8NHP",
        "outputId": "9e7360fc-e455-4d9c-b607-f5e7c74ddd86"
      },
      "execution_count": null,
      "outputs": [
        {
          "output_type": "stream",
          "name": "stdout",
          "text": [
            "\n",
            "Four-digit year: 2025\n"
          ]
        }
      ]
    },
    {
      "cell_type": "code",
      "source": [
        "res=cd.strftime(\"%m\")\n",
        "print(\"\\nTwo-digit month [01, 12]:\",res)\n"
      ],
      "metadata": {
        "colab": {
          "base_uri": "https://localhost:8080/"
        },
        "id": "jh7_P9Eo8Stm",
        "outputId": "d605aa8c-edb4-4c40-bf0f-7adaee64b5a7"
      },
      "execution_count": null,
      "outputs": [
        {
          "output_type": "stream",
          "name": "stdout",
          "text": [
            "\n",
            "Two-digit month [01, 12]: 04\n"
          ]
        }
      ]
    },
    {
      "cell_type": "code",
      "source": [
        "res=cd.strftime(\"%b\")\n",
        "print(\"\\nShort version of month\", res)\n"
      ],
      "metadata": {
        "colab": {
          "base_uri": "https://localhost:8080/"
        },
        "id": "vwNI8mhq8Ux6",
        "outputId": "82403c3a-9725-4733-d16f-2a87e0d66309"
      },
      "execution_count": null,
      "outputs": [
        {
          "output_type": "stream",
          "name": "stdout",
          "text": [
            "\n",
            "Short version of month Apr\n"
          ]
        }
      ]
    },
    {
      "cell_type": "code",
      "source": [
        "res=cd.strftime(\"%B\")\n",
        "print(\"\\nFull name of month:\",res)\n"
      ],
      "metadata": {
        "colab": {
          "base_uri": "https://localhost:8080/"
        },
        "id": "HruJp_Vx8YPW",
        "outputId": "5f989be5-6db6-400f-b851-ad7d331750b6"
      },
      "execution_count": null,
      "outputs": [
        {
          "output_type": "stream",
          "name": "stdout",
          "text": [
            "\n",
            "Full name of month: April\n"
          ]
        }
      ]
    },
    {
      "cell_type": "code",
      "source": [
        "res=cd.strftime(\"%j\")\n",
        "print(\"\\nDays of the year:\", res)\n"
      ],
      "metadata": {
        "colab": {
          "base_uri": "https://localhost:8080/"
        },
        "id": "1HypyP4j8bb0",
        "outputId": "ae5bcdad-a6df-4f96-c0a2-339855091f23"
      },
      "execution_count": null,
      "outputs": [
        {
          "output_type": "stream",
          "name": "stdout",
          "text": [
            "\n",
            "Days of the year: 099\n"
          ]
        }
      ]
    },
    {
      "cell_type": "code",
      "source": [
        "res=cd.strftime(\"%D\")\n",
        "print(\"\\nShortcut for %m/%d/%y (e.g., 04/18/12):\", res)\n"
      ],
      "metadata": {
        "colab": {
          "base_uri": "https://localhost:8080/"
        },
        "id": "fsSk_uw88dsI",
        "outputId": "e5ddc1cd-1b3e-492f-82bf-cf142f152bff"
      },
      "execution_count": null,
      "outputs": [
        {
          "output_type": "stream",
          "name": "stdout",
          "text": [
            "\n",
            "Shortcut for %m/%d/%y (e.g., 04/18/12): 04/09/25\n"
          ]
        }
      ]
    },
    {
      "cell_type": "code",
      "source": [
        "res=cd.strftime(\"%d\")\n",
        "print(\"\\nTwo-digit day [01, 31]:\", res)\n"
      ],
      "metadata": {
        "colab": {
          "base_uri": "https://localhost:8080/"
        },
        "id": "YZnYHT4d8fEL",
        "outputId": "be341ea2-6b78-4eb8-e7eb-035a9e24f47a"
      },
      "execution_count": null,
      "outputs": [
        {
          "output_type": "stream",
          "name": "stdout",
          "text": [
            "\n",
            "Two-digit day [01, 31]: 09\n"
          ]
        }
      ]
    },
    {
      "cell_type": "code",
      "source": [
        "res=cd.strftime(\"%a\")\n",
        "print(\"\\nShort version of day\", res)\n"
      ],
      "metadata": {
        "colab": {
          "base_uri": "https://localhost:8080/"
        },
        "id": "cEdvkFV98gpb",
        "outputId": "e9d910a6-3a61-4adf-d577-fdf31eb1a3d9"
      },
      "execution_count": null,
      "outputs": [
        {
          "output_type": "stream",
          "name": "stdout",
          "text": [
            "\n",
            "Short version of day Wed\n"
          ]
        }
      ]
    },
    {
      "cell_type": "code",
      "source": [
        "res=cd.strftime(\"A\")\n",
        "print(\"\\nFull name of a day:\", res)\n"
      ],
      "metadata": {
        "colab": {
          "base_uri": "https://localhost:8080/"
        },
        "id": "gzf2mlso8iRx",
        "outputId": "8e470b36-813d-4748-a2df-f9df01b642a6"
      },
      "execution_count": null,
      "outputs": [
        {
          "output_type": "stream",
          "name": "stdout",
          "text": [
            "\n",
            "Full name of a day: A\n"
          ]
        }
      ]
    },
    {
      "cell_type": "code",
      "source": [
        "res=cd.strftime(\"%H\")\n",
        "print(\"\\nHour (24-hour clock) [00, 23]:\",res)\n"
      ],
      "metadata": {
        "colab": {
          "base_uri": "https://localhost:8080/"
        },
        "id": "EYLGC6908j-G",
        "outputId": "17279adb-8609-41a6-c7c1-95a735a9b818"
      },
      "execution_count": null,
      "outputs": [
        {
          "output_type": "stream",
          "name": "stdout",
          "text": [
            "\n",
            "Hour (24-hour clock) [00, 23]: 14\n"
          ]
        }
      ]
    },
    {
      "cell_type": "code",
      "source": [
        "res=cd.strftime(\"%I\")\n",
        "print(\"\\nHour (12-hour clock) [01, 12]\",res)\n"
      ],
      "metadata": {
        "colab": {
          "base_uri": "https://localhost:8080/"
        },
        "id": "MqGWxNGO8sJf",
        "outputId": "1fdba06a-6c77-4fe2-a0be-598f392274bf"
      },
      "execution_count": null,
      "outputs": [
        {
          "output_type": "stream",
          "name": "stdout",
          "text": [
            "\n",
            "Hour (12-hour clock) [01, 12] 02\n"
          ]
        }
      ]
    },
    {
      "cell_type": "code",
      "source": [
        "res=cd.strftime(\"%M\")\n",
        "print(\"\\nTwo-digit minute [00, 59]:\", res)\n"
      ],
      "metadata": {
        "colab": {
          "base_uri": "https://localhost:8080/"
        },
        "id": "SgCinaGt8lcD",
        "outputId": "164d82da-04ef-42de-8982-1fc020b60efa"
      },
      "execution_count": null,
      "outputs": [
        {
          "output_type": "stream",
          "name": "stdout",
          "text": [
            "\n",
            "Two-digit minute [00, 59]: 28\n"
          ]
        }
      ]
    },
    {
      "cell_type": "code",
      "source": [
        "res=cd.strftime(\"%S\")\n",
        "print(\"\\nSecond (00, 61] (seconds 60, 61 account for leap seconds):\",res)\n"
      ],
      "metadata": {
        "colab": {
          "base_uri": "https://localhost:8080/"
        },
        "id": "W0BSVc1Y8mzt",
        "outputId": "d2a32b22-88e3-4125-8b72-8e4de84be112"
      },
      "execution_count": null,
      "outputs": [
        {
          "output_type": "stream",
          "name": "stdout",
          "text": [
            "\n",
            "Second (00, 61] (seconds 60, 61 account for leap seconds): 23\n"
          ]
        }
      ]
    },
    {
      "cell_type": "code",
      "source": [
        "res=cd.strftime(\"%F\")\n",
        "print(\"\\nShortcut for %Y-%m-%d (eg, 2012-4-18):\",res)\n"
      ],
      "metadata": {
        "colab": {
          "base_uri": "https://localhost:8080/"
        },
        "id": "UTsfswDe8wTc",
        "outputId": "7b0130cc-4069-4979-c250-218a18525765"
      },
      "execution_count": null,
      "outputs": [
        {
          "output_type": "stream",
          "name": "stdout",
          "text": [
            "\n",
            "Shortcut for %Y-%m-%d (eg, 2012-4-18): 2025-04-09\n"
          ]
        }
      ]
    },
    {
      "cell_type": "code",
      "source": [
        "res=cd.strftime(\"%f\")\n",
        "print(\"\\nMicrosecond as an integer, zero-padded (from 000000 to 999999);\", res)\n"
      ],
      "metadata": {
        "colab": {
          "base_uri": "https://localhost:8080/"
        },
        "id": "_Y8hM4Ua8yHT",
        "outputId": "0795ff32-ed84-4679-c14c-2d79754eeeea"
      },
      "execution_count": null,
      "outputs": [
        {
          "output_type": "stream",
          "name": "stdout",
          "text": [
            "\n",
            "Microsecond as an integer, zero-padded (from 000000 to 999999); 495458\n"
          ]
        }
      ]
    },
    {
      "cell_type": "code",
      "source": [
        "res=cd.strftime(\"%p\")\n",
        "print(\"\\nLocale equivalent of AM or PM:\", res)\n"
      ],
      "metadata": {
        "colab": {
          "base_uri": "https://localhost:8080/"
        },
        "id": "6ArNjkcl8zg0",
        "outputId": "3976348b-32b4-48f4-e671-b57970205cd0"
      },
      "execution_count": null,
      "outputs": [
        {
          "output_type": "stream",
          "name": "stdout",
          "text": [
            "\n",
            "Locale equivalent of AM or PM: PM\n"
          ]
        }
      ]
    },
    {
      "cell_type": "code",
      "source": [
        "res=cd.strftime(\"%x\")\n",
        "print(\"\\nLocale-appropriate formatted date (eg, in the United States, May 1, 2012 yields '05/01/2012)\", res)\n"
      ],
      "metadata": {
        "colab": {
          "base_uri": "https://localhost:8080/"
        },
        "id": "jKl5Idvj82wz",
        "outputId": "486d6967-78cb-488f-9304-98fb22b5b73a"
      },
      "execution_count": null,
      "outputs": [
        {
          "output_type": "stream",
          "name": "stdout",
          "text": [
            "\n",
            "Locale-appropriate formatted date (eg, in the United States, May 1, 2012 yields '05/01/2012) 04/09/25\n"
          ]
        }
      ]
    },
    {
      "cell_type": "code",
      "source": [
        "res=cd.strftime(\"%X\")\n",
        "print(\"\\nLocale-appropriate time (e.g., '04:24:12 PM'):\",res)\n"
      ],
      "metadata": {
        "colab": {
          "base_uri": "https://localhost:8080/"
        },
        "id": "JSGINGhX84fv",
        "outputId": "37d5f69b-722d-471f-a1cd-74408433efc9"
      },
      "execution_count": null,
      "outputs": [
        {
          "output_type": "stream",
          "name": "stdout",
          "text": [
            "\n",
            "Locale-appropriate time (e.g., '04:24:12 PM'): 14:28:23\n"
          ]
        }
      ]
    }
  ]
}
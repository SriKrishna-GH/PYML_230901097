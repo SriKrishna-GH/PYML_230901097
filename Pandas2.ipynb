{
  "nbformat": 4,
  "nbformat_minor": 0,
  "metadata": {
    "colab": {
      "provenance": []
    },
    "kernelspec": {
      "name": "python3",
      "display_name": "Python 3"
    },
    "language_info": {
      "name": "python"
    }
  },
  "cells": [
    {
      "cell_type": "code",
      "execution_count": 1,
      "metadata": {
        "colab": {
          "base_uri": "https://localhost:8080/"
        },
        "id": "dolVeYGmZhSt",
        "outputId": "615a42d4-2d94-4ef4-9a7d-fe23cee8304b"
      },
      "outputs": [
        {
          "output_type": "stream",
          "name": "stdout",
          "text": [
            "DataFrame.applyfunction:\n",
            "\n",
            "\n",
            " Original DataFrame:\n",
            "    S  R\n",
            "0  3  9\n",
            "1  3  9\n",
            "2  3  9\n",
            "3  3  9\n",
            "\n",
            " Squareroot of DataFrame:\n",
            "           S    R\n",
            "0  1.732051  3.0\n",
            "1  1.732051  3.0\n",
            "2  1.732051  3.0\n",
            "3  1.732051  3.0\n",
            "\n",
            " sum of each column:\n",
            " S    12\n",
            "R    36\n",
            "dtype: int64\n",
            "\n",
            " sum of each row:\n",
            " 0    12\n",
            "1    12\n",
            "2    12\n",
            "3    12\n",
            "dtype: int64\n"
          ]
        }
      ],
      "source": [
        "import pandas as pd\n",
        "import numpy as np\n",
        "print(\"DataFrame.applyfunction:\\n\")\n",
        "info=pd.DataFrame([[3,9]]*4,columns=['S','R'])\n",
        "print(\"\\n Original DataFrame:\\n\",info)\n",
        "print(\"\\n Squareroot of DataFrame:\\n\",info.apply(np.sqrt))\n",
        "print(\"\\n sum of each column:\\n\",info.apply(np.sum,axis=0))\n",
        "print(\"\\n sum of each row:\\n\",info.apply(np.sum,axis=1))"
      ]
    },
    {
      "cell_type": "code",
      "source": [
        "info=pd.DataFrame([[2,4,6],[1,3,5],[5,8,7]],columns=['x','y','z'])\n",
        "print(\"\\n Orginal DataFrame : \\n\",info)\n",
        "print(\"\\n Minimum and maximum of each colum:\\n\")\n",
        "print(info.agg(['min','max']))\n"
      ],
      "metadata": {
        "colab": {
          "base_uri": "https://localhost:8080/"
        },
        "id": "EdbTETBMZ3wr",
        "outputId": "ec802383-5814-41a7-8bfa-2107b02944cf"
      },
      "execution_count": 2,
      "outputs": [
        {
          "output_type": "stream",
          "name": "stdout",
          "text": [
            "\n",
            " Orginal DataFrame : \n",
            "    x  y  z\n",
            "0  2  4  6\n",
            "1  1  3  5\n",
            "2  5  8  7\n",
            "\n",
            " Minimum and maximum of each colum:\n",
            "\n",
            "     x  y  z\n",
            "min  1  3  5\n",
            "max  5  8  7\n"
          ]
        }
      ]
    },
    {
      "cell_type": "code",
      "source": [
        "import pandas as pd\n",
        "import numpy as np\n",
        "print(\"\\n DataFrame.Assign function : \\n\")\n",
        "d2=pd.DataFrame([['Balaji',88],['Ronaldo',70]])\n",
        "col=(['Emp','ID'])\n",
        "print(\"\\n Original DataFrame: \\n\",d2)\n",
        "d2['Age']=[20,18]\n",
        "print(\"\\n Adding new column: \\n\",d2)\n",
        "d=d2.assign(sex=['Male','Male'])\n",
        "print(\"\\n Adding new column: \\n\",d)"
      ],
      "metadata": {
        "colab": {
          "base_uri": "https://localhost:8080/"
        },
        "id": "L7l8GD0RaBfQ",
        "outputId": "b72b9418-9a91-451f-8e41-12dff7a13be0"
      },
      "execution_count": 3,
      "outputs": [
        {
          "output_type": "stream",
          "name": "stdout",
          "text": [
            "\n",
            " DataFrame.Assign function : \n",
            "\n",
            "\n",
            " Original DataFrame: \n",
            "          0   1\n",
            "0   Balaji  88\n",
            "1  Ronaldo  70\n",
            "\n",
            " Adding new column: \n",
            "          0   1  Age\n",
            "0   Balaji  88   20\n",
            "1  Ronaldo  70   18\n",
            "\n",
            " Adding new column: \n",
            "          0   1  Age   sex\n",
            "0   Balaji  88   20  Male\n",
            "1  Ronaldo  70   18  Male\n"
          ]
        }
      ]
    },
    {
      "cell_type": "code",
      "source": [
        "print(\"\\n dataframe sort function:\\n\")\n",
        "info=pd.DataFrame(np.random.randn(5,2),index=[3,2,0,4,1],columns=['A','B'])\n",
        "print(info)\n",
        "info2=info.sort_index()\n",
        "print(\"\\n sort index:\\n\",info2)\n",
        "info3=info.sort_values(by='A')\n",
        "print(\"\\n sort values:\\n\",info3)"
      ],
      "metadata": {
        "colab": {
          "base_uri": "https://localhost:8080/"
        },
        "id": "jRZgJmAeaY72",
        "outputId": "2dee0eac-43dc-449b-ffca-3b1f8437522b"
      },
      "execution_count": 4,
      "outputs": [
        {
          "output_type": "stream",
          "name": "stdout",
          "text": [
            "\n",
            " dataframe sort function:\n",
            "\n",
            "          A         B\n",
            "3  0.101001 -0.579964\n",
            "2 -0.755522  0.089078\n",
            "0  0.086192 -0.090367\n",
            "4 -0.602935  0.604508\n",
            "1  0.348549  1.327037\n",
            "\n",
            " sort index:\n",
            "           A         B\n",
            "0  0.086192 -0.090367\n",
            "1  0.348549  1.327037\n",
            "2 -0.755522  0.089078\n",
            "3  0.101001 -0.579964\n",
            "4 -0.602935  0.604508\n",
            "\n",
            " sort values:\n",
            "           A         B\n",
            "2 -0.755522  0.089078\n",
            "4 -0.602935  0.604508\n",
            "0  0.086192 -0.090367\n",
            "3  0.101001 -0.579964\n",
            "1  0.348549  1.327037\n"
          ]
        }
      ]
    },
    {
      "cell_type": "code",
      "source": [
        "print(\"\\n dataframe merge function:\\n\")\n",
        "left=pd.DataFrame({'id':[1,2,3,4],\n",
        " 'name':['sai','ravi','poo','yash'],\n",
        " 'sub':['sub1','sub2','sub4','sub3']})\n",
        "right=pd.DataFrame({'id':[1,2,3,4],\n",
        " 'name':['sanjay','ram','selvin','raju'],\n",
        " 'sub':['sub1','sub4','sub3','sub2']})\n",
        "print(left)\n",
        "print(right)\n",
        "print(pd.merge(left,right,on='id'))"
      ],
      "metadata": {
        "colab": {
          "base_uri": "https://localhost:8080/"
        },
        "id": "F0-LpfqRagWX",
        "outputId": "30a4a92d-cd0b-4b9f-c8d1-e90f770b8f66"
      },
      "execution_count": 5,
      "outputs": [
        {
          "output_type": "stream",
          "name": "stdout",
          "text": [
            "\n",
            " dataframe merge function:\n",
            "\n",
            "   id  name   sub\n",
            "0   1   sai  sub1\n",
            "1   2  ravi  sub2\n",
            "2   3   poo  sub4\n",
            "3   4  yash  sub3\n",
            "   id    name   sub\n",
            "0   1  sanjay  sub1\n",
            "1   2     ram  sub4\n",
            "2   3  selvin  sub3\n",
            "3   4    raju  sub2\n",
            "   id name_x sub_x  name_y sub_y\n",
            "0   1    sai  sub1  sanjay  sub1\n",
            "1   2   ravi  sub2     ram  sub4\n",
            "2   3    poo  sub4  selvin  sub3\n",
            "3   4   yash  sub3    raju  sub2\n"
          ]
        }
      ]
    }
  ]
}
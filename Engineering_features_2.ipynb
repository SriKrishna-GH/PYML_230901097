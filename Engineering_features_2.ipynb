{
  "nbformat": 4,
  "nbformat_minor": 0,
  "metadata": {
    "colab": {
      "provenance": []
    },
    "kernelspec": {
      "name": "python3",
      "display_name": "Python 3"
    },
    "language_info": {
      "name": "python"
    }
  },
  "cells": [
    {
      "cell_type": "code",
      "execution_count": 1,
      "metadata": {
        "colab": {
          "base_uri": "https://localhost:8080/"
        },
        "id": "5yU3Zg6444Zi",
        "outputId": "ac8f4cb6-20c0-4394-ef20-0a03da56ec7c"
      },
      "outputs": [
        {
          "output_type": "stream",
          "name": "stdout",
          "text": [
            "Before:\n",
            "    Height\n",
            "0    150.4\n",
            "1    157.6\n",
            "2    170.0\n",
            "3    176.0\n",
            "4    164.2\n",
            "5    155.0\n",
            "6    159.2\n",
            "7    175.0\n",
            "8    162.4\n",
            "9    176.0\n",
            "10   153.0\n",
            "11   170.9\n",
            "After:\n",
            "    Height    Label\n",
            "0    150.4    Short\n",
            "1    157.6  Average\n",
            "2    170.0     Tall\n",
            "3    176.0     Tall\n",
            "4    164.2  Average\n",
            "5    155.0    Short\n",
            "6    159.2  Average\n",
            "7    175.0     Tall\n",
            "8    162.4  Average\n",
            "9    176.0     Tall\n",
            "10   153.0    Short\n",
            "11   170.9     Tall\n",
            "Categories:\n",
            "Label\n",
            "Tall       5\n",
            "Average    4\n",
            "Short      3\n",
            "Name: count, dtype: int64\n"
          ]
        }
      ],
      "source": [
        "import pandas as pd\n",
        "import numpy as np\n",
        "df=pd.DataFrame({'Height':[150.4,157.6,170,176,164.2,155,159.2,175,162.4,176,153,170.9]})\n",
        "print(\"Before:\")\n",
        "print(df)\n",
        "df['Label']=pd.cut(x=df['Height'],bins=[150,157,169,180],labels=['Short','Average','Tall'])\n",
        "print(\"After:\")\n",
        "print(df)\n",
        "print(\"Categories:\")\n",
        "print(df['Label'].value_counts())"
      ]
    }
  ]
}
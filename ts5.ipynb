{
  "nbformat": 4,
  "nbformat_minor": 0,
  "metadata": {
    "colab": {
      "provenance": [],
      "authorship_tag": "ABX9TyMwUbvvHKl9cLRZ1RAiR5MW",
      "include_colab_link": true
    },
    "kernelspec": {
      "name": "python3",
      "display_name": "Python 3"
    },
    "language_info": {
      "name": "python"
    }
  },
  "cells": [
    {
      "cell_type": "markdown",
      "metadata": {
        "id": "view-in-github",
        "colab_type": "text"
      },
      "source": [
        "<a href=\"https://colab.research.google.com/github/SriKrishna-GH/PYML_230901097/blob/main/ts5.ipynb\" target=\"_parent\"><img src=\"https://colab.research.google.com/assets/colab-badge.svg\" alt=\"Open In Colab\"/></a>"
      ]
    },
    {
      "cell_type": "code",
      "execution_count": 13,
      "metadata": {
        "colab": {
          "base_uri": "https://localhost:8080/"
        },
        "id": "p2WSgkwnefDz",
        "outputId": "2f6bdab7-b320-4f07-e55f-340f2e9c73c9"
      },
      "outputs": [
        {
          "output_type": "stream",
          "name": "stdout",
          "text": [
            "\n",
            "With this date object, create a series with datetime index:\n",
            " 2020-01-05    0.659748\n",
            "2020-01-10    0.969475\n",
            "2020-01-15    0.328905\n",
            "2020-01-20   -1.273160\n",
            "2020-01-25    0.025251\n",
            "dtype: float64\n"
          ]
        }
      ],
      "source": [
        "import pandas as pd\n",
        "import numpy as np\n",
        "from datetime import datetime\n",
        "dates = [datetime(2020,1,5),datetime(2020,1,10), datetime(2020,1,15),\n",
        "datetime(2020,1,20),datetime(2020,1,25)]\n",
        "ts = pd.Series(np.random.randn(5), index=dates)\n",
        "print(\"\\nWith this date object, create a series with datetime index:\\n\",ts)"
      ]
    },
    {
      "cell_type": "code",
      "source": [
        "res=ts.truncate(after=\"1/15/2020\")\n",
        "print(\"\\nTruncate method to truncate datetime series \\n\", res)"
      ],
      "metadata": {
        "colab": {
          "base_uri": "https://localhost:8080/"
        },
        "id": "xlP_K44nfE7K",
        "outputId": "f9654cc0-ddec-4f1f-9013-c242b2b80d22"
      },
      "execution_count": 14,
      "outputs": [
        {
          "output_type": "stream",
          "name": "stdout",
          "text": [
            "\n",
            "Truncate method to truncate datetime series \n",
            " 2020-01-05    0.659748\n",
            "2020-01-10    0.969475\n",
            "2020-01-15    0.328905\n",
            "dtype: float64\n"
          ]
        }
      ]
    },
    {
      "cell_type": "code",
      "source": [
        "da=pd.date_range(\"10/1/2022\", periods=10, freq=\"W-SUN\")\n",
        "print(\"\\nDate range with day periods.\\n\",da)"
      ],
      "metadata": {
        "colab": {
          "base_uri": "https://localhost:8080/"
        },
        "id": "cuipoFhjfJFq",
        "outputId": "a2f416c7-a0ea-4fe1-f200-e7a1942d383f"
      },
      "execution_count": 15,
      "outputs": [
        {
          "output_type": "stream",
          "name": "stdout",
          "text": [
            "\n",
            "Date range with day periods.\n",
            " DatetimeIndex(['2022-10-02', '2022-10-09', '2022-10-16', '2022-10-23',\n",
            "               '2022-10-30', '2022-11-06', '2022-11-13', '2022-11-20',\n",
            "               '2022-11-27', '2022-12-04'],\n",
            "              dtype='datetime64[ns]', freq='W-SUN')\n"
          ]
        }
      ]
    },
    {
      "cell_type": "code",
      "source": [
        "date=pd.DatetimeIndex([\"1/1/2020\",\"1/2/2020\",\"1/2/2020\",\"1/2/2020\",\"1/3/2020\"])\n",
        "ts1=pd.Series(np.arange(5), index=date)\n",
        "print(\"\\nDuplicate datetime index:\\n\",ts1)\n"
      ],
      "metadata": {
        "colab": {
          "base_uri": "https://localhost:8080/"
        },
        "id": "NF8RrCilfNW5",
        "outputId": "6ff659d1-2f81-4ee5-b5a5-eec38eb3aec9"
      },
      "execution_count": 16,
      "outputs": [
        {
          "output_type": "stream",
          "name": "stdout",
          "text": [
            "\n",
            "Duplicate datetime index:\n",
            " 2020-01-01    0\n",
            "2020-01-02    1\n",
            "2020-01-02    2\n",
            "2020-01-02    3\n",
            "2020-01-03    4\n",
            "dtype: int64\n"
          ]
        }
      ]
    },
    {
      "cell_type": "code",
      "source": [
        "group=ts1.groupby(level=0)\n",
        "print(\"\\nRepeated date counts:\\n\",group.count())\n"
      ],
      "metadata": {
        "colab": {
          "base_uri": "https://localhost:8080/"
        },
        "id": "fEE-NgTzfQ6L",
        "outputId": "a146e525-be23-4dd6-fc9f-ae117b7594ed"
      },
      "execution_count": 17,
      "outputs": [
        {
          "output_type": "stream",
          "name": "stdout",
          "text": [
            "\n",
            "Repeated date counts:\n",
            " 2020-01-01    1\n",
            "2020-01-02    3\n",
            "2020-01-03    1\n",
            "dtype: int64\n"
          ]
        }
      ]
    },
    {
      "cell_type": "code",
      "source": [
        "long_df=pd.DataFrame(np.random.randn(10,4),index=da,columns=list(\"ABCD\"))\n",
        "print(\"\\nMulti-column DataFrame with datatime index:\\n\",long_df)\n"
      ],
      "metadata": {
        "colab": {
          "base_uri": "https://localhost:8080/"
        },
        "id": "K_jLDI3kfV38",
        "outputId": "abc3baec-1354-43af-c133-e3ca0e53c077"
      },
      "execution_count": 18,
      "outputs": [
        {
          "output_type": "stream",
          "name": "stdout",
          "text": [
            "\n",
            "Multi-column DataFrame with datatime index:\n",
            "                    A         B         C         D\n",
            "2022-10-02 -0.525465 -1.722249  0.473239 -1.287870\n",
            "2022-10-09 -0.356098  0.350154 -0.882769 -0.454098\n",
            "2022-10-16 -0.972279 -1.108235 -0.262943 -1.040817\n",
            "2022-10-23 -0.499353 -0.316572 -1.225423  0.388687\n",
            "2022-10-30  1.049711 -0.826088 -0.032662 -0.374456\n",
            "2022-11-06  0.307854 -1.105399 -1.599873 -1.329047\n",
            "2022-11-13 -1.171381 -0.451257 -1.827788  0.587657\n",
            "2022-11-20 -0.871564  0.098637 -0.978195  0.010766\n",
            "2022-11-27  1.158640  0.224401 -0.333177  1.586287\n",
            "2022-12-04  2.177237 -0.001763 -0.542388  0.238187\n"
          ]
        }
      ]
    }
  ]
}
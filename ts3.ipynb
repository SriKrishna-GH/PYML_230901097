{
  "nbformat": 4,
  "nbformat_minor": 0,
  "metadata": {
    "colab": {
      "provenance": [],
      "authorship_tag": "ABX9TyM3BRLJXjbjE643x6a87WHk",
      "include_colab_link": true
    },
    "kernelspec": {
      "name": "python3",
      "display_name": "Python 3"
    },
    "language_info": {
      "name": "python"
    }
  },
  "cells": [
    {
      "cell_type": "markdown",
      "metadata": {
        "id": "view-in-github",
        "colab_type": "text"
      },
      "source": [
        "<a href=\"https://colab.research.google.com/github/SriKrishna-GH/PYML_230901097/blob/main/ts3.ipynb\" target=\"_parent\"><img src=\"https://colab.research.google.com/assets/colab-badge.svg\" alt=\"Open In Colab\"/></a>"
      ]
    },
    {
      "cell_type": "code",
      "execution_count": 1,
      "metadata": {
        "colab": {
          "base_uri": "https://localhost:8080/"
        },
        "id": "dEXkLQ6s-fLF",
        "outputId": "45f5fd1c-7cba-4a0d-cd8d-04c911d44e83"
      },
      "outputs": [
        {
          "output_type": "stream",
          "name": "stdout",
          "text": [
            "Date Index \n",
            " 2011-01-02    0.581621\n",
            "2011-01-05    0.965873\n",
            "2011-01-07    0.041435\n",
            "2011-01-08    1.357312\n",
            "2011-01-10   -0.933515\n",
            "2011-01-12   -0.003491\n",
            "dtype: float64\n"
          ]
        }
      ],
      "source": [
        "import pandas as pd\n",
        "import numpy as np\n",
        "from datetime import datetime\n",
        "dates = [datetime(2011, 1, 2),datetime(2011, 1, 5),datetime(2011, 1, 7),datetime(2011, 1, 8),datetime(2011, 1, 10),datetime(2011, 1, 12)]\n",
        "ts = pd.Series(np.random.randn(6), index=dates)\n",
        "print(\"Date Index \\n\",ts)\n"
      ]
    },
    {
      "cell_type": "code",
      "source": [
        "print(\"\\nDate Index alone from the series: \\n\",ts.index)"
      ],
      "metadata": {
        "colab": {
          "base_uri": "https://localhost:8080/"
        },
        "id": "6t6ZWlId_JDZ",
        "outputId": "4f5c67cf-e1e1-4e00-a68b-57fc9b535b40"
      },
      "execution_count": 2,
      "outputs": [
        {
          "output_type": "stream",
          "name": "stdout",
          "text": [
            "\n",
            "Date Index alone from the series: \n",
            " DatetimeIndex(['2011-01-02', '2011-01-05', '2011-01-07', '2011-01-08',\n",
            "               '2011-01-10', '2011-01-12'],\n",
            "              dtype='datetime64[ns]', freq=None)\n"
          ]
        }
      ]
    },
    {
      "cell_type": "code",
      "source": [
        "stamp=ts.index[2]\n",
        "print(\"\\nSecond index:\\n\", stamp)"
      ],
      "metadata": {
        "colab": {
          "base_uri": "https://localhost:8080/"
        },
        "id": "v57NGKm__Lh7",
        "outputId": "fe550fb6-e6f0-4067-b4a8-cb9e0431a2b1"
      },
      "execution_count": 3,
      "outputs": [
        {
          "output_type": "stream",
          "name": "stdout",
          "text": [
            "\n",
            "Second index:\n",
            " 2011-01-07 00:00:00\n"
          ]
        }
      ]
    },
    {
      "cell_type": "code",
      "source": [
        "longer_ts=pd.Series(np.random.randn(1000),index=pd.date_range(\"2000-01-01\",periods=1000))\n",
        "print(\"\\nDaterange up to 1000 days:\\n\",longer_ts)\n"
      ],
      "metadata": {
        "colab": {
          "base_uri": "https://localhost:8080/"
        },
        "id": "_YKC-q3U_OGe",
        "outputId": "43ce3b98-7b27-4363-9fb2-309f739ad5dc"
      },
      "execution_count": 4,
      "outputs": [
        {
          "output_type": "stream",
          "name": "stdout",
          "text": [
            "\n",
            "Daterange up to 1000 days:\n",
            " 2000-01-01   -1.574935\n",
            "2000-01-02   -1.271193\n",
            "2000-01-03   -0.271654\n",
            "2000-01-04    0.524576\n",
            "2000-01-05   -0.596533\n",
            "                ...   \n",
            "2002-09-22    0.918583\n",
            "2002-09-23    1.808973\n",
            "2002-09-24    0.716705\n",
            "2002-09-25   -0.611768\n",
            "2002-09-26   -0.559522\n",
            "Freq: D, Length: 1000, dtype: float64\n"
          ]
        }
      ]
    },
    {
      "cell_type": "code",
      "source": [
        "print(\"\\nDate range-2001 year:\\n\", longer_ts[\"2001\"])"
      ],
      "metadata": {
        "colab": {
          "base_uri": "https://localhost:8080/"
        },
        "id": "m1C0o0Er_Qfh",
        "outputId": "7c7bf805-ecb0-4258-e37c-18482ab06a36"
      },
      "execution_count": 5,
      "outputs": [
        {
          "output_type": "stream",
          "name": "stdout",
          "text": [
            "\n",
            "Date range-2001 year:\n",
            " 2001-01-01   -0.257196\n",
            "2001-01-02   -0.660300\n",
            "2001-01-03    1.378148\n",
            "2001-01-04    0.290566\n",
            "2001-01-05    0.914799\n",
            "                ...   \n",
            "2001-12-27   -1.301675\n",
            "2001-12-28   -0.650178\n",
            "2001-12-29   -2.078811\n",
            "2001-12-30   -0.545323\n",
            "2001-12-31   -1.327143\n",
            "Freq: D, Length: 365, dtype: float64\n"
          ]
        }
      ]
    },
    {
      "cell_type": "code",
      "source": [
        "print(\"\\nDate range-05 month 2001 year:\\n\", longer_ts[\"2001-05\"])"
      ],
      "metadata": {
        "colab": {
          "base_uri": "https://localhost:8080/"
        },
        "id": "HDPGASR7_SZF",
        "outputId": "566f01e1-250c-4fa1-9a1c-650d6d3079a2"
      },
      "execution_count": 6,
      "outputs": [
        {
          "output_type": "stream",
          "name": "stdout",
          "text": [
            "\n",
            "Date range-05 month 2001 year:\n",
            " 2001-05-01   -0.270159\n",
            "2001-05-02   -0.148932\n",
            "2001-05-03   -0.578729\n",
            "2001-05-04   -0.050723\n",
            "2001-05-05   -1.809417\n",
            "2001-05-06    1.948404\n",
            "2001-05-07   -1.348249\n",
            "2001-05-08   -0.869017\n",
            "2001-05-09   -0.275458\n",
            "2001-05-10   -0.195441\n",
            "2001-05-11    0.132961\n",
            "2001-05-12   -0.210299\n",
            "2001-05-13    1.029160\n",
            "2001-05-14    1.173437\n",
            "2001-05-15    0.307339\n",
            "2001-05-16   -0.717552\n",
            "2001-05-17    0.266447\n",
            "2001-05-18    1.239593\n",
            "2001-05-19   -1.363540\n",
            "2001-05-20   -0.819424\n",
            "2001-05-21   -0.314285\n",
            "2001-05-22   -0.471631\n",
            "2001-05-23    0.334367\n",
            "2001-05-24    0.028725\n",
            "2001-05-25   -0.100895\n",
            "2001-05-26    0.674677\n",
            "2001-05-27    0.011069\n",
            "2001-05-28    1.897680\n",
            "2001-05-29    0.112398\n",
            "2001-05-30   -0.691308\n",
            "2001-05-31    0.665578\n",
            "Freq: D, dtype: float64\n"
          ]
        }
      ]
    },
    {
      "cell_type": "code",
      "source": [
        "print(\"\\nDate range-first few dates in 2000 year:\\n\",longer_ts[\"2000\"].head())"
      ],
      "metadata": {
        "colab": {
          "base_uri": "https://localhost:8080/"
        },
        "id": "o-_Yxy1O_daO",
        "outputId": "eac986cd-058d-4b30-f27d-633cd5ea281d"
      },
      "execution_count": 7,
      "outputs": [
        {
          "output_type": "stream",
          "name": "stdout",
          "text": [
            "\n",
            "Date range-first few dates in 2000 year:\n",
            " 2000-01-01   -1.574935\n",
            "2000-01-02   -1.271193\n",
            "2000-01-03   -0.271654\n",
            "2000-01-04    0.524576\n",
            "2000-01-05   -0.596533\n",
            "Freq: D, dtype: float64\n"
          ]
        }
      ]
    },
    {
      "cell_type": "code",
      "source": [
        "print(\"\\nDate range-first 15 dates in 02 month 2001 year:\\n\",longer_ts[\"2000-02\"].head(15))"
      ],
      "metadata": {
        "colab": {
          "base_uri": "https://localhost:8080/"
        },
        "id": "BOn_VkPK_gNZ",
        "outputId": "9a62839d-5969-43e2-b22e-86e747f3bb0e"
      },
      "execution_count": 8,
      "outputs": [
        {
          "output_type": "stream",
          "name": "stdout",
          "text": [
            "\n",
            "Date range-first 15 dates in 02 month 2001 year:\n",
            " 2000-02-01   -1.122456\n",
            "2000-02-02   -0.302579\n",
            "2000-02-03   -0.595495\n",
            "2000-02-04    0.866676\n",
            "2000-02-05    0.595017\n",
            "2000-02-06   -0.268590\n",
            "2000-02-07   -0.483526\n",
            "2000-02-08   -0.115444\n",
            "2000-02-09    1.033045\n",
            "2000-02-10   -0.648375\n",
            "2000-02-11   -0.029729\n",
            "2000-02-12   -0.488485\n",
            "2000-02-13   -0.614215\n",
            "2000-02-14    0.176188\n",
            "2000-02-15    0.322099\n",
            "Freq: D, dtype: float64\n"
          ]
        }
      ]
    },
    {
      "cell_type": "code",
      "source": [
        "print(\"\\nDate range from 26-9-2001:\\n\",longer_ts[datetime(2000,9,26):])"
      ],
      "metadata": {
        "colab": {
          "base_uri": "https://localhost:8080/"
        },
        "id": "9-XSUvlq_i7Y",
        "outputId": "347a33ec-2bad-4be8-cb26-25bcc52e3066"
      },
      "execution_count": 9,
      "outputs": [
        {
          "output_type": "stream",
          "name": "stdout",
          "text": [
            "\n",
            "Date range-rom 26-9-2001:\n",
            " 2000-09-26    1.499680\n",
            "2000-09-27    0.562919\n",
            "2000-09-28   -0.232456\n",
            "2000-09-29   -0.401143\n",
            "2000-09-30    0.207105\n",
            "                ...   \n",
            "2002-09-22    0.918583\n",
            "2002-09-23    1.808973\n",
            "2002-09-24    0.716705\n",
            "2002-09-25   -0.611768\n",
            "2002-09-26   -0.559522\n",
            "Freq: D, Length: 731, dtype: float64\n"
          ]
        }
      ]
    },
    {
      "cell_type": "code",
      "source": [
        "print(\"\\nDate range from 26-9-2001 to 25-9- 2002:\\n\",longer_ts[datetime(2001,9,26):datetime(2002,9,25)])"
      ],
      "metadata": {
        "colab": {
          "base_uri": "https://localhost:8080/"
        },
        "id": "gKioWSQz_l_j",
        "outputId": "f8efc841-711c-4c3d-a754-0ac119accc73"
      },
      "execution_count": 10,
      "outputs": [
        {
          "output_type": "stream",
          "name": "stdout",
          "text": [
            "\n",
            "Date range from 26-9-2001 to 25-9- 2002:\n",
            " 2001-09-26   -1.129408\n",
            "2001-09-27   -0.061803\n",
            "2001-09-28   -0.680525\n",
            "2001-09-29   -1.922971\n",
            "2001-09-30    0.915164\n",
            "                ...   \n",
            "2002-09-21    0.084933\n",
            "2002-09-22    0.918583\n",
            "2002-09-23    1.808973\n",
            "2002-09-24    0.716705\n",
            "2002-09-25   -0.611768\n",
            "Freq: D, Length: 365, dtype: float64\n"
          ]
        }
      ]
    }
  ]
}

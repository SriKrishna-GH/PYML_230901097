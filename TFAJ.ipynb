{
  "nbformat": 4,
  "nbformat_minor": 0,
  "metadata": {
    "colab": {
      "provenance": []
    },
    "kernelspec": {
      "name": "python3",
      "display_name": "Python 3"
    },
    "language_info": {
      "name": "python"
    }
  },
  "cells": [
    {
      "source": [
        "file_path = '/content/drive/My Drive/Colab Notebooks/data.txt'\n",
        "try:\n",
        "    f = open(file_path, 'r')\n",
        "    content = f.read()\n",
        "    print(content)\n",
        "except FileNotFoundError:\n",
        "    print(f\"Error: File not found at path: {file_path}\")\n",
        "    print(\"Please ensure the file exists and the path is correct.\")\n",
        "finally:\n",
        "    if 'f' in locals() and f:\n",
        "        f.close()"
      ],
      "cell_type": "code",
      "metadata": {
        "colab": {
          "base_uri": "https://localhost:8080/"
        },
        "id": "oX6digIGhTX-",
        "outputId": "9c13ae8d-592d-464c-83f4-fb97fd4f11fb"
      },
      "execution_count": 10,
      "outputs": [
        {
          "output_type": "stream",
          "name": "stdout",
          "text": [
            "\n"
          ]
        }
      ]
    },
    {
      "source": [
        "from google.colab import drive\n",
        "drive.mount('/content/drive')"
      ],
      "cell_type": "code",
      "metadata": {
        "colab": {
          "base_uri": "https://localhost:8080/"
        },
        "id": "Lbtz8ZkdhI3Q",
        "outputId": "8ae49621-fe5e-4a74-c2a0-b9a68cb000d2"
      },
      "execution_count": 6,
      "outputs": [
        {
          "output_type": "stream",
          "name": "stdout",
          "text": [
            "Mounted at /content/drive\n"
          ]
        }
      ]
    },
    {
      "cell_type": "code",
      "source": [
        "f=open('/content/drive/My Drive/Colab Notebooks/data.txt','w')\n",
        "f.write(\"One \\n\")\n",
        "f.write(\"Two \\n\")\n",
        "f.write(\"Three \\n\")\n",
        "f.close()\n",
        "a=open('/content/drive/My Drive/Colab Notebooks/data.txt','r')\n",
        "print(a.read())\n",
        "print(a.read())\n",
        "print(a.read())\n",
        "a.close"
      ],
      "metadata": {
        "colab": {
          "base_uri": "https://localhost:8080/"
        },
        "id": "c30YLsfjhyCp",
        "outputId": "692cf950-c46e-4661-9b7a-13cee4d8e3e8"
      },
      "execution_count": 11,
      "outputs": [
        {
          "output_type": "stream",
          "name": "stdout",
          "text": [
            "One \n",
            "Two \n",
            "Three \n",
            "\n",
            "\n",
            "\n"
          ]
        },
        {
          "output_type": "execute_result",
          "data": {
            "text/plain": [
              "<function TextIOWrapper.close()>"
            ]
          },
          "metadata": {},
          "execution_count": 11
        }
      ]
    },
    {
      "cell_type": "code",
      "source": [
        "b=open('/content/drive/My Drive/Colab Notebooks/data.txt','a')\n",
        "b.write(\"Yuva\")\n",
        "b.write(\"Sri\")\n",
        "with open ('/content/drive/My Drive/Colab Notebooks/data.txt','r') as f:\n",
        "  line=f.readlines()\n",
        "  print(line)\n",
        "b.close()"
      ],
      "metadata": {
        "colab": {
          "base_uri": "https://localhost:8080/"
        },
        "id": "FTfbB7rmiLy9",
        "outputId": "f2f9674b-48dc-45ae-d81d-bd19a1ad80e7"
      },
      "execution_count": 12,
      "outputs": [
        {
          "output_type": "stream",
          "name": "stdout",
          "text": [
            "['One \\n', 'Two \\n', 'Three \\n']\n"
          ]
        }
      ]
    }
  ]
}
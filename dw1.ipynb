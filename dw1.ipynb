{
  "nbformat": 4,
  "nbformat_minor": 0,
  "metadata": {
    "colab": {
      "provenance": []
    },
    "kernelspec": {
      "name": "python3",
      "display_name": "Python 3"
    },
    "language_info": {
      "name": "python"
    }
  },
  "cells": [
    {
      "cell_type": "code",
      "execution_count": null,
      "metadata": {
        "colab": {
          "base_uri": "https://localhost:8080/"
        },
        "id": "FIgFhT0gly2D",
        "outputId": "37568ab1-c00f-4f84-ab78-c51ed76cad9c"
      },
      "outputs": [
        {
          "output_type": "stream",
          "name": "stdout",
          "text": [
            "df1:\n",
            "   name  age\n",
            "0  Sai   20\n",
            "1  Sub   21\n",
            "2  Poo   22\n",
            "df2:\n",
            "    qualified\n",
            "0       True\n",
            "1       True\n",
            "2      False\n",
            "Joining:\n",
            "   name  age  qualified\n",
            "0  Sai   20       True\n",
            "1  Sub   21       True\n",
            "2  Poo   22      False\n"
          ]
        }
      ],
      "source": [
        "import pandas as pd\n",
        "d1={'name':['Sai','Sub','Poo'],'age':[20,21,22]}\n",
        "d2={'qualified':[True,True,False]}\n",
        "df1=pd.DataFrame(d1)\n",
        "print(\"df1:\\n\",df1)\n",
        "df2=pd.DataFrame(d2)\n",
        "print(\"df2:\\n\",df2)\n",
        "newdf=df1.join(df2)\n",
        "print(\"Joining:\\n\",newdf)"
      ]
    },
    {
      "cell_type": "code",
      "source": [
        "df1=pd.DataFrame([[11,12],[3,4]])\n",
        "df2=pd.DataFrame([[5,6],[7,8]])\n",
        "def myfunc(a,b):\n",
        "  if (a.sum()>b.sum()):\n",
        "    return a\n",
        "  else:\n",
        "    return b\n",
        "print(df1)\n",
        "print(df2)\n",
        "print(df1.combine(df2,myfunc))"
      ],
      "metadata": {
        "colab": {
          "base_uri": "https://localhost:8080/"
        },
        "id": "_uy9Mz6uofny",
        "outputId": "02077714-6350-4544-8b7b-6d5ceca0cd0a"
      },
      "execution_count": null,
      "outputs": [
        {
          "output_type": "stream",
          "name": "stdout",
          "text": [
            "    0   1\n",
            "0  11  12\n",
            "1   3   4\n",
            "   0  1\n",
            "0  5  6\n",
            "1  7  8\n",
            "    0   1\n",
            "0  11  12\n",
            "1   3   4\n"
          ]
        }
      ]
    },
    {
      "cell_type": "code",
      "source": [
        "d1={'name':['Sai','Sub','Poo'],'age':[20,21,22]}\n",
        "d2={\"name\":[\"Yuvi\",\"Rithika\",\"Sanjay\"],\"age\":[20,21,22]}\n",
        "df1=pd.DataFrame(d1)\n",
        "print(\"df1:\\n\",df1)\n",
        "df2=pd.DataFrame(d2)\n",
        "print(\"df2:\\n\",df2)\n",
        "newdf1=df2.merge(df1,on=\"age\")\n",
        "newdf2=df1.merge(df2,on=\"age\")\n",
        "print(\"Merge:\\n\",newdf1)\n",
        "print(\"Merge:\\n\",newdf2)"
      ],
      "metadata": {
        "colab": {
          "base_uri": "https://localhost:8080/"
        },
        "id": "vqFJProkpoIC",
        "outputId": "1b603d0e-4611-4c5f-8182-9e64ad06e895"
      },
      "execution_count": null,
      "outputs": [
        {
          "output_type": "stream",
          "name": "stdout",
          "text": [
            "df1:\n",
            "   name  age\n",
            "0  Sai   20\n",
            "1  Sub   21\n",
            "2  Poo   22\n",
            "df2:\n",
            "       name  age\n",
            "0     Yuvi   20\n",
            "1  Rithika   21\n",
            "2   Sanjay   22\n",
            "Merge:\n",
            "     name_x  age name_y\n",
            "0     Yuvi   20    Sai\n",
            "1  Rithika   21    Sub\n",
            "2   Sanjay   22    Poo\n",
            "Merge:\n",
            "   name_x  age   name_y\n",
            "0    Sai   20     Yuvi\n",
            "1    Sub   21  Rithika\n",
            "2    Poo   22   Sanjay\n"
          ]
        }
      ]
    },
    {
      "cell_type": "code",
      "source": [
        "df=pd.DataFrame({\"team\":['A','B','C','D'],'Points':[90,56,78,88],'assists':[12,34,23,44],\"rebound\":[56,43,55,12]})\n",
        "print(df)\n",
        "df=pd.melt(df,id_vars=\"team\",value_vars=[\"Points\",\"assists\",\"rebound\"])\n",
        "print(\"\\nReshaped DataFrame:\\n\",df)"
      ],
      "metadata": {
        "colab": {
          "base_uri": "https://localhost:8080/"
        },
        "id": "Q4f0KzeJqx16",
        "outputId": "dd943c41-2343-479d-e6b9-1eb40c944e63"
      },
      "execution_count": null,
      "outputs": [
        {
          "output_type": "stream",
          "name": "stdout",
          "text": [
            "  team  Points  assists  rebound\n",
            "0    A      90       12       56\n",
            "1    B      56       34       43\n",
            "2    C      78       23       55\n",
            "3    D      88       44       12\n",
            "\n",
            "Reshaped DataFrame:\n",
            "    team variable  value\n",
            "0     A   Points     90\n",
            "1     B   Points     56\n",
            "2     C   Points     78\n",
            "3     D   Points     88\n",
            "4     A  assists     12\n",
            "5     B  assists     34\n",
            "6     C  assists     23\n",
            "7     D  assists     44\n",
            "8     A  rebound     56\n",
            "9     B  rebound     43\n",
            "10    C  rebound     55\n",
            "11    D  rebound     12\n"
          ]
        }
      ]
    }
  ]
}
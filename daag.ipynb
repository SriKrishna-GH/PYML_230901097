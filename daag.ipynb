{
  "nbformat": 4,
  "nbformat_minor": 0,
  "metadata": {
    "colab": {
      "provenance": [],
      "authorship_tag": "ABX9TyMSZd4WrzA51dPBcKTl+AWj",
      "include_colab_link": true
    },
    "kernelspec": {
      "name": "python3",
      "display_name": "Python 3"
    },
    "language_info": {
      "name": "python"
    }
  },
  "cells": [
    {
      "cell_type": "markdown",
      "metadata": {
        "id": "view-in-github",
        "colab_type": "text"
      },
      "source": [
        "<a href=\"https://colab.research.google.com/github/SriKrishna-GH/PYML_230901097/blob/main/daag.ipynb\" target=\"_parent\"><img src=\"https://colab.research.google.com/assets/colab-badge.svg\" alt=\"Open In Colab\"/></a>"
      ]
    },
    {
      "cell_type": "code",
      "source": [
        "import numpy as np\n",
        "import pandas as pd\n",
        "df=pd.DataFrame({\"Name\":[\"Alice\",\"Bob\",\"Charlie\",\"Alice\",\"Bob\",\"Charlie\"],\"Catagory\":[\"A\",\"B\",\"C\",\"A\",\"B\",\"C\"],\"value\":np.random.randint(1,5,size=6),\"score\":np.random.randint(60,100,size=6)})\n",
        "print(\"\\n Original DataFrame: \\n\",df)\n",
        "df1=df.groupby([\"Name\"],as_index=False)[\"value\"].sum()\n",
        "print(\"\\n Grouped by name and aggredation with one column sum:\\n\",df1)"
      ],
      "metadata": {
        "colab": {
          "base_uri": "https://localhost:8080/"
        },
        "id": "xdRmWxofq5Zd",
        "outputId": "5ffd580b-84e2-4af1-a16b-0cbb2104ffc7"
      },
      "execution_count": null,
      "outputs": [
        {
          "output_type": "stream",
          "name": "stdout",
          "text": [
            "\n",
            " Original DataFrame: \n",
            "       Name Catagory  value  score\n",
            "0    Alice        A      4     89\n",
            "1      Bob        B      4     91\n",
            "2  Charlie        C      2     81\n",
            "3    Alice        A      1     86\n",
            "4      Bob        B      2     70\n",
            "5  Charlie        C      1     73\n",
            "\n",
            " Grouped by name and aggredation with one column sum:\n",
            "       Name  value\n",
            "0    Alice      5\n",
            "1      Bob      6\n",
            "2  Charlie      3\n"
          ]
        }
      ]
    },
    {
      "cell_type": "code",
      "source": [
        "df2=df.groupby(('Name'),as_index=False)[['value','score']].sum()\n",
        "print(\"\\nGroup by name and Aggregation with two column:\\n\",df2)"
      ],
      "metadata": {
        "colab": {
          "base_uri": "https://localhost:8080/"
        },
        "id": "ypxX16oBurSW",
        "outputId": "9670560d-28f6-4755-a48a-ce78a87842a4"
      },
      "execution_count": null,
      "outputs": [
        {
          "output_type": "stream",
          "name": "stdout",
          "text": [
            "\n",
            "Group by name and Aggregation with two column:\n",
            "       Name  value  score\n",
            "0    Alice      5    175\n",
            "1      Bob      6    161\n",
            "2  Charlie      3    154\n"
          ]
        }
      ]
    },
    {
      "cell_type": "code",
      "source": [
        "df3=df.groupby(('Name'),as_index=False)['value'].agg('sum')\n",
        "print(\"\\nGroup by name and Aggregation with one column using agg function:\\n\",df3)"
      ],
      "metadata": {
        "colab": {
          "base_uri": "https://localhost:8080/"
        },
        "id": "fwYB_I4_ulX-",
        "outputId": "fac166a8-140d-451d-b4b2-64400f5bb963"
      },
      "execution_count": null,
      "outputs": [
        {
          "output_type": "stream",
          "name": "stdout",
          "text": [
            "\n",
            "Group by name and Aggregation with one column using agg function:\n",
            "       Name  value\n",
            "0    Alice      5\n",
            "1      Bob      6\n",
            "2  Charlie      3\n"
          ]
        }
      ]
    },
    {
      "cell_type": "code",
      "source": [
        "df4 = df.groupby('Name').agg({\n",
        "'value': ['sum', 'mean', 'min', 'max'],\n",
        "'score': ['sum', 'mean']})\n",
        "print(\"\\nGroup by name and multiple Aggregation functions :\\n\", df4)"
      ],
      "metadata": {
        "colab": {
          "base_uri": "https://localhost:8080/"
        },
        "id": "8PbZCirXuxOW",
        "outputId": "52eec4e4-c5af-4d85-ede6-09d7fd32fbf0"
      },
      "execution_count": null,
      "outputs": [
        {
          "output_type": "stream",
          "name": "stdout",
          "text": [
            "\n",
            "Group by name and multiple Aggregation functions :\n",
            "         value              score      \n",
            "          sum mean min max   sum  mean\n",
            "Name                                  \n",
            "Alice       5  2.5   1   4   175  87.5\n",
            "Bob         6  3.0   2   4   161  80.5\n",
            "Charlie     3  1.5   1   2   154  77.0\n"
          ]
        }
      ]
    },
    {
      "cell_type": "code",
      "source": [
        "df5=df.groupby((\"Name\"),as_index=False)[\"value\"].count()\n",
        "print(\"\\n Group and count:\\n\",df5)"
      ],
      "metadata": {
        "colab": {
          "base_uri": "https://localhost:8080/"
        },
        "id": "3xKPS2ntu_pW",
        "outputId": "84635170-c22b-4b8c-cc06-e9d219bf1ec6"
      },
      "execution_count": null,
      "outputs": [
        {
          "output_type": "stream",
          "name": "stdout",
          "text": [
            "\n",
            " Group and count:\n",
            "       Name  value\n",
            "0    Alice      2\n",
            "1      Bob      2\n",
            "2  Charlie      2\n"
          ]
        }
      ]
    },
    {
      "cell_type": "code",
      "source": [
        "df6=df.groupby((\"Name\")).count()\n",
        "print(\"\\n Group and count:\\n\",df6)"
      ],
      "metadata": {
        "colab": {
          "base_uri": "https://localhost:8080/"
        },
        "id": "Gl3M1pFcv16O",
        "outputId": "1c2ad4c7-acff-4379-f578-79709c7428f1"
      },
      "execution_count": null,
      "outputs": [
        {
          "output_type": "stream",
          "name": "stdout",
          "text": [
            "\n",
            " Group and count:\n",
            "          Catagory  value  score\n",
            "Name                           \n",
            "Alice           2      2      2\n",
            "Bob             2      2      2\n",
            "Charlie         2      2      2\n"
          ]
        }
      ]
    },
    {
      "cell_type": "code",
      "source": [
        "df7=df.groupby((\"Name\"),as_index=False).first()\n",
        "print(\"\\n Group and display from first\\n\",df7)"
      ],
      "metadata": {
        "colab": {
          "base_uri": "https://localhost:8080/"
        },
        "id": "gN8dBEwBwNBn",
        "outputId": "bcefe132-e630-42e5-df08-00d155e1c7f7"
      },
      "execution_count": null,
      "outputs": [
        {
          "output_type": "stream",
          "name": "stdout",
          "text": [
            "\n",
            " Group and display from first\n",
            "       Name Catagory  value  score\n",
            "0    Alice        A      4     89\n",
            "1      Bob        B      4     91\n",
            "2  Charlie        C      2     81\n"
          ]
        }
      ]
    },
    {
      "cell_type": "code",
      "source": [
        "df8=df.groupby((\"Name\"),as_index=False).last()\n",
        "print(\"\\n Group and display from last\\n\",df8)"
      ],
      "metadata": {
        "colab": {
          "base_uri": "https://localhost:8080/"
        },
        "id": "dabAfhh6wmbe",
        "outputId": "273099b6-9c13-49db-f5d9-21c33066b41f"
      },
      "execution_count": null,
      "outputs": [
        {
          "output_type": "stream",
          "name": "stdout",
          "text": [
            "\n",
            " Group and display from last\n",
            "       Name Catagory  value  score\n",
            "0    Alice        A      1     86\n",
            "1      Bob        B      2     70\n",
            "2  Charlie        C      1     73\n"
          ]
        }
      ]
    },
    {
      "cell_type": "code",
      "source": [
        "df9=df.groupby((\"Name\")).first()\n",
        "print(\"\\n Group and display from first\\n\",df9)"
      ],
      "metadata": {
        "colab": {
          "base_uri": "https://localhost:8080/"
        },
        "id": "ZE4zJKJtxvs_",
        "outputId": "27283536-95b8-4ad7-d53c-96efa3a16b39"
      },
      "execution_count": null,
      "outputs": [
        {
          "output_type": "stream",
          "name": "stdout",
          "text": [
            "\n",
            " Group and display from first\n",
            "         Catagory  value  score\n",
            "Name                          \n",
            "Alice          A      4     89\n",
            "Bob            B      4     91\n",
            "Charlie        C      2     81\n"
          ]
        }
      ]
    },
    {
      "cell_type": "code",
      "source": [
        "df10=df.groupby((\"Name\")).last()\n",
        "print(\"\\n Group and display from last\\n\",df10)"
      ],
      "metadata": {
        "colab": {
          "base_uri": "https://localhost:8080/"
        },
        "id": "HnfghiNAxB9n",
        "outputId": "0e1f4cca-eb7f-4bec-b4ca-f2add71c298d"
      },
      "execution_count": null,
      "outputs": [
        {
          "output_type": "stream",
          "name": "stdout",
          "text": [
            "\n",
            " Group and display from last\n",
            "         Catagory  value  score\n",
            "Name                          \n",
            "Alice          A      1     86\n",
            "Bob            B      2     70\n",
            "Charlie        C      1     73\n"
          ]
        }
      ]
    }
  ]
}
{
  "nbformat": 4,
  "nbformat_minor": 0,
  "metadata": {
    "colab": {
      "provenance": []
    },
    "kernelspec": {
      "name": "python3",
      "display_name": "Python 3"
    },
    "language_info": {
      "name": "python"
    }
  },
  "cells": [
    {
      "cell_type": "code",
      "execution_count": 7,
      "metadata": {
        "colab": {
          "base_uri": "https://localhost:8080/"
        },
        "id": "d_l_hfNBbQZx",
        "outputId": "aa7ef844-e413-434d-ec1e-cb9e7fbb7813"
      },
      "outputs": [
        {
          "output_type": "stream",
          "name": "stdout",
          "text": [
            "Drive already mounted at /content/drive; to attempt to forcibly remount, call drive.mount(\"/content/drive\", force_remount=True).\n",
            "    Emp ID First Name Last Name Gender  Salary\n",
            "0   677509       Lois    Walker      F  168251\n",
            "1   940761     Brenda  Robinson      F   51063\n",
            "2   428945        Joe  Robinson      M   50155\n",
            "3   408351      Diane     Evans      F  180294\n",
            "4   193819   Benjamin   Russell      M  117642\n",
            "..     ...        ...       ...    ...     ...\n",
            "95  639892       Jose      Hill      M  129774\n",
            "96  704709     Harold    Nelson      M  156194\n",
            "97  461593     Nicole      Ward      F   95673\n",
            "98  392491    Theresa    Murphy      F   51015\n",
            "99  495141      Tammy     Young      F   93650\n",
            "\n",
            "[100 rows x 5 columns]\n"
          ]
        }
      ],
      "source": [
        "import pandas as pd\n",
        "from google.colab import drive\n",
        "drive.mount('/content/drive')\n",
        "d=pd.read_csv('/content/drive/My Drive/Colab Notebooks/data.csv')\n",
        "print(d)"
      ]
    },
    {
      "cell_type": "code",
      "source": [
        "df=pd.DataFrame(d)\n",
        "print(\"Columns:\",df.columns)\n",
        "print(df.shape)"
      ],
      "metadata": {
        "colab": {
          "base_uri": "https://localhost:8080/"
        },
        "id": "PuYeXhLYRTlW",
        "outputId": "71e29cd0-5504-42c1-bdcc-8c3faa34502b"
      },
      "execution_count": 10,
      "outputs": [
        {
          "output_type": "stream",
          "name": "stdout",
          "text": [
            "Columns: Index(['Emp ID', 'First Name', 'Last Name', 'Gender', 'Salary'], dtype='object')\n",
            "(100, 5)\n"
          ]
        }
      ]
    },
    {
      "cell_type": "code",
      "source": [
        "print(\"\\nSalary\\n\",df[\"Salary\"])"
      ],
      "metadata": {
        "colab": {
          "base_uri": "https://localhost:8080/"
        },
        "id": "hbtlaikwSKQu",
        "outputId": "84b061f6-5e23-43a5-853c-69cfe39d4780"
      },
      "execution_count": 11,
      "outputs": [
        {
          "output_type": "stream",
          "name": "stdout",
          "text": [
            "\n",
            "Salary\n",
            " 0     168251\n",
            "1      51063\n",
            "2      50155\n",
            "3     180294\n",
            "4     117642\n",
            "       ...  \n",
            "95    129774\n",
            "96    156194\n",
            "97     95673\n",
            "98     51015\n",
            "99     93650\n",
            "Name: Salary, Length: 100, dtype: int64\n"
          ]
        }
      ]
    },
    {
      "cell_type": "code",
      "source": [
        "print(df[5:9])"
      ],
      "metadata": {
        "colab": {
          "base_uri": "https://localhost:8080/"
        },
        "id": "WCL-HkjJSYH_",
        "outputId": "8709ea0d-e82b-485e-9c76-f5bd30e97b89"
      },
      "execution_count": 12,
      "outputs": [
        {
          "output_type": "stream",
          "name": "stdout",
          "text": [
            "   Emp ID First Name Last Name Gender  Salary\n",
            "5  499687    Patrick    Bailey      M   72305\n",
            "6  539712      Nancy     Baker      F   98189\n",
            "7  380086      Carol    Murphy      F   60918\n",
            "8  477616    Frances     Young      F  121587\n"
          ]
        }
      ]
    },
    {
      "cell_type": "code",
      "source": [
        "print(d.loc[d[\"Salary\"]==72305])"
      ],
      "metadata": {
        "colab": {
          "base_uri": "https://localhost:8080/"
        },
        "id": "wL-MY-KxSdXm",
        "outputId": "4c4754c7-b1bf-4d5a-c47a-0a15bbcc073c"
      },
      "execution_count": 21,
      "outputs": [
        {
          "output_type": "stream",
          "name": "stdout",
          "text": [
            "   Emp ID First Name Last Name Gender  Salary\n",
            "5  499687    Patrick    Bailey      M   72305\n"
          ]
        }
      ]
    }
  ]
}
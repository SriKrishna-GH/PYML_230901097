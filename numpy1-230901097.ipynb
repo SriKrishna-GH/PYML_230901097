{
  "cells": [
    {
      "cell_type": "code",
      "execution_count": 18,
      "id": "68ffd726",
      "metadata": {
        "id": "68ffd726",
        "outputId": "8241afd4-ca55-4586-f0b8-c4b2747ecb8c",
        "colab": {
          "base_uri": "https://localhost:8080/"
        }
      },
      "outputs": [
        {
          "output_type": "stream",
          "name": "stdout",
          "text": [
            "Array created [1 2 3 4 5]\n"
          ]
        }
      ],
      "source": [
        "import numpy as np\n",
        "a=np.array([1,2,3,4,5])\n",
        "print(\"Array created\",a)"
      ]
    },
    {
      "cell_type": "code",
      "execution_count": 19,
      "id": "be003d57",
      "metadata": {
        "id": "be003d57",
        "outputId": "4a548920-8429-46a8-a367-7f2cbc461381",
        "colab": {
          "base_uri": "https://localhost:8080/"
        }
      },
      "outputs": [
        {
          "output_type": "stream",
          "name": "stdout",
          "text": [
            "Array created [[ 1  2  3  4  5]\n",
            " [ 6  7  8  9 10]]\n"
          ]
        }
      ],
      "source": [
        "import numpy as np\n",
        "a=np.array([[1,2,3,4,5],[6,7,8,9,10]])\n",
        "print(\"Array created\",a)"
      ]
    },
    {
      "cell_type": "code",
      "execution_count": 20,
      "id": "2519c558",
      "metadata": {
        "id": "2519c558",
        "outputId": "c3c87726-c3af-40c6-8c98-d6584b44d077",
        "colab": {
          "base_uri": "https://localhost:8080/"
        }
      },
      "outputs": [
        {
          "output_type": "stream",
          "name": "stdout",
          "text": [
            "\n",
            " Array with zeros: \n",
            " [[0. 0. 0. 0. 0.]\n",
            " [0. 0. 0. 0. 0.]\n",
            " [0. 0. 0. 0. 0.]]\n"
          ]
        }
      ],
      "source": [
        "import numpy as np\n",
        "a=np.zeros((3,5))\n",
        "print(\"\\n Array with zeros: \\n\",a)"
      ]
    },
    {
      "cell_type": "code",
      "execution_count": 21,
      "id": "e6d01a1d",
      "metadata": {
        "id": "e6d01a1d",
        "outputId": "a196d7f9-20d1-4fcf-b28f-e5a07355393f",
        "colab": {
          "base_uri": "https://localhost:8080/"
        }
      },
      "outputs": [
        {
          "output_type": "stream",
          "name": "stdout",
          "text": [
            "\n",
            " array with random values \n",
            " [[0.24494589 0.68943763 0.65297137]\n",
            " [0.78825523 0.52887444 0.25750109]]\n"
          ]
        }
      ],
      "source": [
        "import numpy as np\n",
        "s=np.random.random([2,3])\n",
        "print(\"\\n array with random values \\n\",s)"
      ]
    },
    {
      "cell_type": "code",
      "execution_count": 22,
      "id": "4854ffcf",
      "metadata": {
        "id": "4854ffcf",
        "outputId": "660f0d76-8c17-417b-dc09-0a745f2414a1",
        "colab": {
          "base_uri": "https://localhost:8080/"
        }
      },
      "outputs": [
        {
          "output_type": "stream",
          "name": "stdout",
          "text": [
            "\n",
            "A sequence array with steps 5\n",
            " [ 0  5 10 15 20 25 30 35 40 45 50]\n"
          ]
        }
      ],
      "source": [
        "import numpy as np\n",
        "c=np.arange(0,55,5)\n",
        "print(\"\\nA sequence array with steps 5\\n\",c)\n"
      ]
    },
    {
      "cell_type": "code",
      "execution_count": 23,
      "id": "4a1bdd24",
      "metadata": {
        "id": "4a1bdd24",
        "outputId": "0f681085-fa99-4114-c01c-ebae3dbf880b",
        "colab": {
          "base_uri": "https://localhost:8080/"
        }
      },
      "outputs": [
        {
          "output_type": "stream",
          "name": "stdout",
          "text": [
            "\n",
            " Original array:\n",
            " [[1 2 3]\n",
            " [4 5 6]\n",
            " [7 8 9]]\n",
            "\n",
            " Flattend array:\n",
            " [1 2 3 4 5 6 7 8 9]\n"
          ]
        }
      ],
      "source": [
        "import numpy as op\n",
        "f=np.array([[1,2,3],[4,5,6],[7,8,9]])\n",
        "fl=f.flatten()\n",
        "print(\"\\n Original array:\\n\",f)\n",
        "print(\"\\n Flattend array:\\n\",fl)"
      ]
    },
    {
      "cell_type": "code",
      "execution_count": 24,
      "id": "0c5252e7",
      "metadata": {
        "id": "0c5252e7",
        "colab": {
          "base_uri": "https://localhost:8080/"
        },
        "outputId": "b9099e4c-5f32-4d6b-a774-0d2d137be59c"
      },
      "outputs": [
        {
          "output_type": "stream",
          "name": "stdout",
          "text": [
            "2\n"
          ]
        }
      ],
      "source": [
        "print(a.ndim)"
      ]
    },
    {
      "cell_type": "code",
      "source": [
        "print(a.shape)"
      ],
      "metadata": {
        "colab": {
          "base_uri": "https://localhost:8080/"
        },
        "id": "DuOi7zg9Ekec",
        "outputId": "005aecc3-597c-48e1-c951-7bca852d3748"
      },
      "id": "DuOi7zg9Ekec",
      "execution_count": 25,
      "outputs": [
        {
          "output_type": "stream",
          "name": "stdout",
          "text": [
            "(3, 5)\n"
          ]
        }
      ]
    },
    {
      "cell_type": "code",
      "source": [
        "print(a.dtype)"
      ],
      "metadata": {
        "colab": {
          "base_uri": "https://localhost:8080/"
        },
        "id": "wrCvrMYHEvds",
        "outputId": "ca0ac637-ca8f-409b-d982-ab69bbd04bb8"
      },
      "id": "wrCvrMYHEvds",
      "execution_count": 26,
      "outputs": [
        {
          "output_type": "stream",
          "name": "stdout",
          "text": [
            "float64\n"
          ]
        }
      ]
    },
    {
      "cell_type": "code",
      "source": [
        "print(a.size)"
      ],
      "metadata": {
        "colab": {
          "base_uri": "https://localhost:8080/"
        },
        "id": "JtFKHnfQE4Em",
        "outputId": "b6d590ea-167f-4189-8438-22c7f9905769"
      },
      "id": "JtFKHnfQE4Em",
      "execution_count": 27,
      "outputs": [
        {
          "output_type": "stream",
          "name": "stdout",
          "text": [
            "15\n"
          ]
        }
      ]
    },
    {
      "cell_type": "code",
      "source": [
        "newtype=a.astype('f')\n",
        "print(\"\\n convert array:\\n\",newtype)\n",
        "print(\"\\n convert array:\\n\",newtype.dtype)"
      ],
      "metadata": {
        "colab": {
          "base_uri": "https://localhost:8080/"
        },
        "id": "5BuzHcxCE-aq",
        "outputId": "d6bf127a-0231-4641-9773-72982abd6bb9"
      },
      "id": "5BuzHcxCE-aq",
      "execution_count": 28,
      "outputs": [
        {
          "output_type": "stream",
          "name": "stdout",
          "text": [
            "\n",
            " convert array:\n",
            " [[0. 0. 0. 0. 0.]\n",
            " [0. 0. 0. 0. 0.]\n",
            " [0. 0. 0. 0. 0.]]\n",
            "\n",
            " convert array:\n",
            " float32\n"
          ]
        }
      ]
    },
    {
      "cell_type": "code",
      "source": [
        "size=len(a)\n",
        "print(\"\\n size of array:\\n\",size)"
      ],
      "metadata": {
        "colab": {
          "base_uri": "https://localhost:8080/"
        },
        "id": "GxGMrMR4FH0o",
        "outputId": "962d9ed3-909f-4f8e-931d-099346c3740f"
      },
      "id": "GxGMrMR4FH0o",
      "execution_count": 31,
      "outputs": [
        {
          "output_type": "stream",
          "name": "stdout",
          "text": [
            "\n",
            " size of array:\n",
            " 3\n"
          ]
        }
      ]
    }
  ],
  "metadata": {
    "kernelspec": {
      "display_name": "Python 3 (ipykernel)",
      "language": "python",
      "name": "python3"
    },
    "language_info": {
      "codemirror_mode": {
        "name": "ipython",
        "version": 3
      },
      "file_extension": ".py",
      "mimetype": "text/x-python",
      "name": "python",
      "nbconvert_exporter": "python",
      "pygments_lexer": "ipython3",
      "version": "3.11.5"
    },
    "colab": {
      "provenance": []
    }
  },
  "nbformat": 4,
  "nbformat_minor": 5
}